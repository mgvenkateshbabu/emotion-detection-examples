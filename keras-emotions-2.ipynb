{
 "cells": [
  {
   "cell_type": "code",
   "execution_count": 26,
   "id": "1fcac56e",
   "metadata": {},
   "outputs": [],
   "source": [
    "import csv\n",
    "import glob\n",
    "import pathlib\n",
    "\n",
    "import cv2\n",
    "import imutils\n",
    "import numpy as np\n",
    "from tensorflow.keras.callbacks import ModelCheckpoint\n",
    "from tensorflow.keras.layers import *\n",
    "from tensorflow.keras.models import *\n",
    "from tensorflow.keras.optimizers import Adam\n",
    "from tensorflow.keras.preprocessing.image import *\n",
    "from tensorflow.keras.utils import to_categorical\n",
    "\n",
    "\n",
    "base_path = \"CK+48\"\n",
    "files=os.listdir(base_path)\n",
    "\n",
    "\n",
    "emotions=['anger', 'contempt', 'disgust', 'fear', 'happy', 'sadness', 'surprise']"
   ]
  },
  {
   "cell_type": "code",
   "execution_count": 15,
   "id": "7ef9fe2e",
   "metadata": {},
   "outputs": [],
   "source": [
    "import cv2\n",
    "\n",
    "count_file_under_emotions=[]\n",
    "images=[]\n",
    "labels=[]\n",
    "for emotion_dir in files:\n",
    "    idx=emotions.index(emotion_dir)\n",
    "    label=idx\n",
    "    i=0\n",
    "  \n",
    "    one_emotion_dir = base_path + '/' + emotion_dir\n",
    "    files_under_one_emotion = os.listdir(one_emotion_dir)\n",
    "    for file_under_one_emotion in files_under_one_emotion:\n",
    "        file_main=one_emotion_dir+'/'+file_under_one_emotion\n",
    "        #print(file_main+\"   \"+str(label))\n",
    "        image= cv2.imread(file_main)\n",
    "        image = cv2.cvtColor(image, cv2.COLOR_BGR2RGB)\n",
    "        image= cv2.resize(image,(48,48))\n",
    "        images.append(image)\n",
    "        labels.append(label)\n",
    "        i+=1\n",
    "    count_file_under_emotions.append(i)"
   ]
  },
  {
   "cell_type": "code",
   "execution_count": 14,
   "id": "58cf20ef",
   "metadata": {},
   "outputs": [
    {
     "data": {
      "text/plain": [
       "[135, 54, 177, 75, 207, 84, 249]"
      ]
     },
     "execution_count": 14,
     "metadata": {},
     "output_type": "execute_result"
    }
   ],
   "source": [
    "count_file_under_emotions"
   ]
  },
  {
   "cell_type": "code",
   "execution_count": 16,
   "id": "eddf275b",
   "metadata": {},
   "outputs": [],
   "source": []
  },
  {
   "cell_type": "code",
   "execution_count": 17,
   "id": "1d50209c",
   "metadata": {},
   "outputs": [],
   "source": [
    "from tensorflow.keras.layers import Dropout\n",
    "from tensorflow.keras.layers import Flatten,BatchNormalization\n",
    "from tensorflow.keras.layers import Dense, MaxPooling2D,Conv2D\n",
    "from tensorflow.keras.layers import Input,Activation,Add\n",
    "from tensorflow.keras.models import Model\n",
    "from tensorflow.keras.regularizers import l2\n",
    "from tensorflow.keras.optimizers import Adam\n",
    "\n",
    "\n",
    "def conv_layers(input_tensor, filters):\n",
    "    \n",
    "    x = Conv2D(filters=filters,kernel_size=(3, 3),padding = 'same',strides=(1, 1),kernel_regularizer=l2(0.001))(input_tensor)\n",
    "    x = Dropout(0.1)(x)\n",
    "    x= Activation('relu')(x)\n",
    "    return x\n",
    "\n",
    "def build_model(input_shape):\n",
    "    inputs = Input((input_shape))\n",
    "\n",
    "    conv_1= conv_layers(inputs,32)\n",
    "    maxp_1 = MaxPooling2D(pool_size = (2,2)) (conv_1)\n",
    "    conv_2 = conv_layers(maxp_1,64)\n",
    "    maxp_2 = MaxPooling2D(pool_size = (2, 2)) (conv_2)\n",
    "    conv_3 = conv_layers(maxp_2,128)\n",
    "    maxp_3 = MaxPooling2D(pool_size = (2, 2)) (conv_3)\n",
    "    conv_4 = conv_layers(maxp_3,256)\n",
    "    maxp_4 = MaxPooling2D(pool_size = (2, 2)) (conv_4)\n",
    "    flatten= Flatten() (maxp_4)\n",
    "    dense_1= Dense(128,activation='relu')(flatten)\n",
    "    drop_1=Dropout(0.2)(dense_1)\n",
    "    output= Dense(7,activation=\"sigmoid\")(drop_1)\n",
    "    model = Model(inputs=[inputs], outputs=[output])\n",
    "    model.compile(loss=\"categorical_crossentropy\", optimizer=\"Adam\", metrics=[\"accuracy\"])\n",
    "    \n",
    "    return model"
   ]
  },
  {
   "cell_type": "code",
   "execution_count": 22,
   "id": "6523e571",
   "metadata": {},
   "outputs": [
    {
     "name": "stdout",
     "output_type": "stream",
     "text": [
      "Model: \"model_2\"\n",
      "_________________________________________________________________\n",
      "Layer (type)                 Output Shape              Param #   \n",
      "=================================================================\n",
      "input_3 (InputLayer)         [(None, 48, 48, 3)]       0         \n",
      "_________________________________________________________________\n",
      "conv2d_8 (Conv2D)            (None, 48, 48, 32)        896       \n",
      "_________________________________________________________________\n",
      "dropout_10 (Dropout)         (None, 48, 48, 32)        0         \n",
      "_________________________________________________________________\n",
      "activation_8 (Activation)    (None, 48, 48, 32)        0         \n",
      "_________________________________________________________________\n",
      "max_pooling2d_8 (MaxPooling2 (None, 24, 24, 32)        0         \n",
      "_________________________________________________________________\n",
      "conv2d_9 (Conv2D)            (None, 24, 24, 64)        18496     \n",
      "_________________________________________________________________\n",
      "dropout_11 (Dropout)         (None, 24, 24, 64)        0         \n",
      "_________________________________________________________________\n",
      "activation_9 (Activation)    (None, 24, 24, 64)        0         \n",
      "_________________________________________________________________\n",
      "max_pooling2d_9 (MaxPooling2 (None, 12, 12, 64)        0         \n",
      "_________________________________________________________________\n",
      "conv2d_10 (Conv2D)           (None, 12, 12, 128)       73856     \n",
      "_________________________________________________________________\n",
      "dropout_12 (Dropout)         (None, 12, 12, 128)       0         \n",
      "_________________________________________________________________\n",
      "activation_10 (Activation)   (None, 12, 12, 128)       0         \n",
      "_________________________________________________________________\n",
      "max_pooling2d_10 (MaxPooling (None, 6, 6, 128)         0         \n",
      "_________________________________________________________________\n",
      "conv2d_11 (Conv2D)           (None, 6, 6, 256)         295168    \n",
      "_________________________________________________________________\n",
      "dropout_13 (Dropout)         (None, 6, 6, 256)         0         \n",
      "_________________________________________________________________\n",
      "activation_11 (Activation)   (None, 6, 6, 256)         0         \n",
      "_________________________________________________________________\n",
      "max_pooling2d_11 (MaxPooling (None, 3, 3, 256)         0         \n",
      "_________________________________________________________________\n",
      "flatten_2 (Flatten)          (None, 2304)              0         \n",
      "_________________________________________________________________\n",
      "dense_4 (Dense)              (None, 128)               295040    \n",
      "_________________________________________________________________\n",
      "dropout_14 (Dropout)         (None, 128)               0         \n",
      "_________________________________________________________________\n",
      "dense_5 (Dense)              (None, 7)                 903       \n",
      "=================================================================\n",
      "Total params: 684,359\n",
      "Trainable params: 684,359\n",
      "Non-trainable params: 0\n",
      "_________________________________________________________________\n"
     ]
    }
   ],
   "source": [
    "model = build_model((48,48,3))\n",
    "\n",
    "model.summary()"
   ]
  },
  {
   "cell_type": "code",
   "execution_count": 27,
   "id": "3b6b3e51",
   "metadata": {},
   "outputs": [],
   "source": [
    "import tensorflow as tf\n",
    "from sklearn.model_selection import train_test_split\n",
    "import numpy as np\n",
    "\n",
    "images_arr = np.array(images)\n",
    "labels_arr = np.array(labels)\n",
    "images_scaled_arr = images_arr/255\n",
    "\n",
    "labels_encoded = tf.keras.utils.to_categorical(labels_arr, num_classes=len(emotions))\n",
    "\n",
    "X_train, X_non_train, Y_train, Y_non_train= train_test_split(images_scaled_arr, labels_encoded, test_size=0.25)"
   ]
  },
  {
   "cell_type": "code",
   "execution_count": 30,
   "id": "d196022d",
   "metadata": {},
   "outputs": [
    {
     "name": "stdout",
     "output_type": "stream",
     "text": [
      "Epoch 1/2\n",
      "22/22 [==============================] - 6s 271ms/step - loss: 1.8622 - accuracy: 0.3343 - val_loss: 1.8012 - val_accuracy: 0.4228\n",
      "\n",
      "Epoch 00001: val_loss improved from inf to 1.80117, saving model to age-gender-CKPLUS/model\\model-emotions-ep001-loss1.862-val_loss1.801.h5\n",
      "Epoch 2/2\n",
      "22/22 [==============================] - 5s 230ms/step - loss: 1.4859 - accuracy: 0.4979 - val_loss: 1.4521 - val_accuracy: 0.5041\n",
      "\n",
      "Epoch 00002: val_loss improved from 1.80117 to 1.45205, saving model to age-gender-CKPLUS/model\\model-emotions-ep002-loss1.486-val_loss1.452.h5\n",
      "3/3 [==============================] - 0s 65ms/step - loss: 1.3394 - accuracy: 0.6146\n",
      "Accuracy: 61.45833134651184%\n"
     ]
    }
   ],
   "source": [
    "BATCH_SIZE = 32\n",
    "EPOCHS = 2\n",
    "\n",
    "checkpoint_pattern = ('model/model-emotions-ep{epoch:03d}-loss{loss:.3f}'\n",
    "                          '-val_loss{val_loss:.3f}.h5')\n",
    "\n",
    "checkpoint = ModelCheckpoint(checkpoint_pattern,\n",
    "                             monitor='val_loss',\n",
    "                             verbose=1,\n",
    "                             save_best_only=True,\n",
    "                             mode='min')\n",
    "\n",
    "\n",
    "\n",
    "train_augmenter = ImageDataGenerator(rotation_range=10,\n",
    "                                     zoom_range=0.1,\n",
    "                                     horizontal_flip=True,                                     \n",
    "                                     fill_mode='nearest')\n",
    "\n",
    "train_gen = train_augmenter.flow(X_train,\n",
    "                                 Y_train,\n",
    "                                 batch_size=BATCH_SIZE)\n",
    "\n",
    "train_steps = len(X_train) // BATCH_SIZE\n",
    "\n",
    "val_augmenter = ImageDataGenerator(rotation_range=10,\n",
    "                                     zoom_range=0.1,\n",
    "                                     horizontal_flip=True,                                     \n",
    "                                     fill_mode='nearest')\n",
    "\n",
    "X_valid = X_non_train[:len(X_non_train)//2]\n",
    "Y_valid = Y_non_train[:len(X_non_train)//2]\n",
    "\n",
    "X_test = X_non_train[len(X_non_train)//2:]\n",
    "Y_test = Y_non_train[len(X_non_train)//2:]\n",
    "\n",
    "val_gen = val_augmenter.flow(X_valid,\n",
    "                             Y_valid,\n",
    "                             batch_size=BATCH_SIZE)\n",
    "\n",
    "\n",
    "model.fit(train_gen,\n",
    "          steps_per_epoch=train_steps,\n",
    "          validation_data=val_gen,\n",
    "          epochs=EPOCHS,\n",
    "          verbose=1,\n",
    "          callbacks=[checkpoint])\n",
    "\n",
    "test_augmenter = ImageDataGenerator(rotation_range=10,\n",
    "                                     zoom_range=0.1,\n",
    "                                     horizontal_flip=True,                                     \n",
    "                                     fill_mode='nearest')\n",
    "\n",
    "test_gen = test_augmenter.flow(X_test,\n",
    "                               Y_test,\n",
    "                               batch_size=BATCH_SIZE)\n",
    "test_steps = len(X_test) // BATCH_SIZE\n",
    "_, accuracy = model.evaluate(test_gen, steps=test_steps)\n",
    "\n",
    "print(f'Accuracy: {accuracy * 100}%')"
   ]
  },
  {
   "cell_type": "code",
   "execution_count": 34,
   "id": "931aa5ad",
   "metadata": {},
   "outputs": [
    {
     "name": "stderr",
     "output_type": "stream",
     "text": [
      "C:\\Users\\venka\\anaconda3\\lib\\site-packages\\sklearn\\metrics\\_classification.py:1308: UndefinedMetricWarning: Precision and F-score are ill-defined and being set to 0.0 in labels with no predicted samples. Use `zero_division` parameter to control this behavior.\n",
      "  _warn_prf(average, modifier, msg_start, len(result))\n",
      "C:\\Users\\venka\\anaconda3\\lib\\site-packages\\sklearn\\metrics\\_classification.py:1308: UndefinedMetricWarning: Precision and F-score are ill-defined and being set to 0.0 in labels with no predicted samples. Use `zero_division` parameter to control this behavior.\n",
      "  _warn_prf(average, modifier, msg_start, len(result))\n",
      "C:\\Users\\venka\\anaconda3\\lib\\site-packages\\sklearn\\metrics\\_classification.py:1308: UndefinedMetricWarning: Precision and F-score are ill-defined and being set to 0.0 in labels with no predicted samples. Use `zero_division` parameter to control this behavior.\n",
      "  _warn_prf(average, modifier, msg_start, len(result))\n"
     ]
    }
   ],
   "source": [
    "from sklearn.metrics import classification_report \n",
    "\n",
    "predictions = model.predict(X_test)\n",
    "\n",
    "i=0 \n",
    "Y_test_label = [] \n",
    "predictions_label = []\n",
    "\n",
    "for i in range(len(predictions)):   \n",
    "    Y_test_label.append(int(np.argmax(Y_test[i])))     \n",
    "    predictions_label.append(int(np.argmax(predictions[i])))   \n",
    "\n",
    "report = classification_report(Y_test_label, predictions_label)"
   ]
  },
  {
   "cell_type": "code",
   "execution_count": 39,
   "id": "b987660a",
   "metadata": {},
   "outputs": [],
   "source": [
    "import matplotlib.pyplot as plt\n",
    "def test_image(ind):\n",
    "    plt.imshow(images_arr[ind])\n",
    "    image_test = images_arr[ind]\n",
    "    print(\"Label actual:  \" + emotions[labels[ind]])\n",
    "    pred = model.predict(np.array([images_arr[ind]]))\n",
    "    #print(pred_1)\n",
    "    pred_class = emotions[int(np.argmax(pred))]\n",
    "    print(\"Predicted Label: \"+ pred_class)"
   ]
  },
  {
   "cell_type": "code",
   "execution_count": 43,
   "id": "c20a9932",
   "metadata": {},
   "outputs": [
    {
     "name": "stdout",
     "output_type": "stream",
     "text": [
      "Label actual:  surprise\n",
      "Predicted Label: fear\n"
     ]
    },
    {
     "data": {
      "image/png": "[encoded data removed]",
      "text/plain": [
       "<Figure size 432x288 with 1 Axes>"
      ]
     },
     "metadata": {
      "needs_background": "light"
     },
     "output_type": "display_data"
    }
   ],
   "source": [
    "test_image(789)"
   ]
  },
  {
   "cell_type": "code",
   "execution_count": null,
   "id": "c209f783",
   "metadata": {},
   "outputs": [],
   "source": []
  }
 ],
 "metadata": {
  "kernelspec": {
   "display_name": "Python 3",
   "language": "python",
   "name": "python3"
  },
  "language_info": {
   "codemirror_mode": {
    "name": "ipython",
    "version": 3
   },
   "file_extension": ".py",
   "mimetype": "text/x-python",
   "name": "python",
   "nbconvert_exporter": "python",
   "pygments_lexer": "ipython3",
   "version": "3.8.8"
  }
 },
 "nbformat": 4,
 "nbformat_minor": 5
}
